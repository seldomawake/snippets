{
 "cells": [
  {
   "cell_type": "code",
   "execution_count": 79,
   "metadata": {
    "collapsed": false
   },
   "outputs": [],
   "source": [
    "from sympy import *\n",
    "\n",
    "p_t = [ 1, 2, 3, 4, 4 ]\n",
    "o_tequals5 = [ 0, 0, 0, 1, 0, 0, 0, 0, 0 ]"
   ]
  },
  {
   "cell_type": "code",
   "execution_count": 60,
   "metadata": {
    "collapsed": false
   },
   "outputs": [
    {
     "name": "stdout",
     "output_type": "stream",
     "text": [
      "4, 0\n",
      "3, 0\n",
      "2, 0\n",
      "1, 1\n",
      "0, 0\n",
      "-1, 0\n",
      "-2, 1\n",
      "-3, 0\n",
      "-4, 0\n"
     ]
    }
   ],
   "source": [
    "# iterating over strike prices:\n",
    "# keeping this snippet in case we want to use deltas, not dollar values\n",
    "for i in range(0, len(o_tequals5)):\n",
    "        print str(-1*(i-len(o_tequals5)/2)) + ', ' + str(o_tequals5[i])"
   ]
  },
  {
   "cell_type": "code",
   "execution_count": null,
   "metadata": {
    "collapsed": true
   },
   "outputs": [],
   "source": [
    "# First, we work the example from t=0 to t=1\n",
    "# p_tplus1 = p_t * sum_j(k * o_tequals5,j / sqrt((5 - 0)^2 + (j - 0)^2))\n",
    "# => p_t[1] = p_t[0] * (k * o_tequals5[0] / sqrt((5 - 0)^2 + (0 - 0)^2)) + \n",
    "#             p_t[0] * (k * o_tequals5[1] / sqrt((5 - 0)^2 + (1 - 0)^2) + ... + \n",
    "#             p_t[0] * (k * o_tequals5[8] / sqrt((5 - 0)^2 + (8 - 1)^2)"
   ]
  },
  {
   "cell_type": "code",
   "execution_count": 80,
   "metadata": {
    "collapsed": false
   },
   "outputs": [
    {
     "name": "stdout",
     "output_type": "stream",
     "text": [
      "sqrt(34)*k/34\n"
     ]
    }
   ],
   "source": [
    "k = Symbol('k')\n",
    "p_est_tplus1 = 0 \n",
    "\n",
    "for j in range(0, len(o_tequals5)):\n",
    "    to_add = p_t[0] * (k * o_tequals5[j] / sqrt((5 - 0)**2 + (j - 0)**2))\n",
    "    p_est_tplus1 = p_est_tplus1 + to_add\n",
    "    # print j\n",
    "    # print to_add\n",
    "\n",
    "print p_est_tplus1\n"
   ]
  },
  {
   "cell_type": "code",
   "execution_count": 68,
   "metadata": {
    "collapsed": true
   },
   "outputs": [],
   "source": [
    "# we assume that k is such that from t = 0 to t = 1, price moves from p_t[0] to p_t[1]. We then solve for k."
   ]
  },
  {
   "cell_type": "code",
   "execution_count": 81,
   "metadata": {
    "collapsed": false
   },
   "outputs": [
    {
     "data": {
      "text/plain": [
       "[sqrt(34)]"
      ]
     },
     "execution_count": 81,
     "metadata": {},
     "output_type": "execute_result"
    }
   ],
   "source": [
    "solve((p_t[1] - p_t[0]) - p_est_tplus1, k) # (2 - 1) - sqrt(34)*k/34 = 0 => k = sqrt(34)."
   ]
  },
  {
   "cell_type": "code",
   "execution_count": 72,
   "metadata": {
    "collapsed": true
   },
   "outputs": [],
   "source": [
    "# confirmed. Now we can calculate values for all p_t in the sample set."
   ]
  },
  {
   "cell_type": "code",
   "execution_count": 88,
   "metadata": {
    "collapsed": false
   },
   "outputs": [
    {
     "name": "stdout",
     "output_type": "stream",
     "text": [
      "[sqrt(34)*k/34, 2*k/5, sqrt(2)*k/2, 4*sqrt(13)*k/13, 2*sqrt(10)*k/5]\n"
     ]
    }
   ],
   "source": [
    "p_est = []\n",
    "for i in range(0, len(p_t)):\n",
    "    k = Symbol('k')\n",
    "    p_est_tplus1 = 0 \n",
    "\n",
    "    for j in range(0, len(o_tequals5)):\n",
    "        to_add = p_t[i] * (k * o_tequals5[j] / sqrt((5 - i)**2 + (j - 0)**2))\n",
    "        p_est_tplus1 = p_est_tplus1 + to_add\n",
    "        \n",
    "    p_est.append(p_est_tplus1)\n",
    "    \n",
    "print p_est\n",
    "    "
   ]
  },
  {
   "cell_type": "code",
   "execution_count": 97,
   "metadata": {
    "collapsed": false
   },
   "outputs": [
    {
     "name": "stdout",
     "output_type": "stream",
     "text": [
      "[5.83095189484530, 2.50000000000000, 1.41421356237310, 0]\n"
     ]
    }
   ],
   "source": [
    "ks = []\n",
    "for q in range(1, len(p_t)):\n",
    "    ks.append(solve((p_t[q] - p_t[q-1]) - p_est[q-1], k))\n",
    "\n",
    "print [x[0].evalf() for x in ks]"
   ]
  },
  {
   "cell_type": "code",
   "execution_count": 98,
   "metadata": {
    "collapsed": true
   },
   "outputs": [],
   "source": [
    "# above, we see that the value of k, the \"attractive factor,\" gets \n",
    "# smaller as the price approaches the single point attractor."
   ]
  }
 ],
 "metadata": {
  "kernelspec": {
   "display_name": "Python 2",
   "language": "python",
   "name": "python2"
  },
  "language_info": {
   "codemirror_mode": {
    "name": "ipython",
    "version": 2
   },
   "file_extension": ".py",
   "mimetype": "text/x-python",
   "name": "python",
   "nbconvert_exporter": "python",
   "pygments_lexer": "ipython2",
   "version": "2.7.13"
  }
 },
 "nbformat": 4,
 "nbformat_minor": 2
}
